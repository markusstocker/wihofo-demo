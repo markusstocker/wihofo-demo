{
 "cells": [
  {
   "cell_type": "markdown",
   "metadata": {},
   "source": [
    "# Auswertung des FID Surveys 2020\n",
    "Basierend auf der version 09.01.2021, Jungbauer-Gans"
   ]
  },
  {
   "cell_type": "code",
   "execution_count": 8,
   "metadata": {},
   "outputs": [],
   "source": [
    "import pandas as pd\n",
    "from IPython.display import display, HTML"
   ]
  },
  {
   "cell_type": "code",
   "execution_count": 3,
   "metadata": {},
   "outputs": [],
   "source": [
    "df = pd.read_stata(\"fid_data_miss.dta\")"
   ]
  },
  {
   "cell_type": "code",
   "execution_count": 4,
   "metadata": {},
   "outputs": [
    {
     "name": "stdout",
     "output_type": "stream",
     "text": [
      "Eingegangene Antworten: 65\n"
     ]
    }
   ],
   "source": [
    "print('Eingegangene Antworten: {}'.format(df.shape[0]))"
   ]
  },
  {
   "cell_type": "code",
   "execution_count": 5,
   "metadata": {},
   "outputs": [
    {
     "name": "stdout",
     "output_type": "stream",
     "text": [
      "Auswertbare Antworten: 59\n"
     ]
    }
   ],
   "source": [
    "df = df[df['finished']==True]\n",
    "n = df.shape[0]\n",
    "\n",
    "print('Auswertbare Antworten: {}'.format(n))"
   ]
  },
  {
   "cell_type": "markdown",
   "metadata": {},
   "source": [
    "Insgesamt wurden 135 Personen zur Befragung eingeladen zwischen 13.11. und 16.12.2020. Davon 65 Antworten sind eingegagen, wobei 6 Befragte keine Angaben gemacht haben. Bei den meisten Fragen gibt es daher 59 auswertbare Angaben."
   ]
  },
  {
   "cell_type": "markdown",
   "metadata": {},
   "source": [
    "## An werlcher Art von Einrichtung sind Sie tätig? (Mehrfachantworten)"
   ]
  },
  {
   "cell_type": "code",
   "execution_count": 38,
   "metadata": {},
   "outputs": [
    {
     "data": {
      "text/html": [
       "<table border=\"1\" class=\"dataframe\">\n",
       "  <thead>\n",
       "    <tr style=\"text-align: right;\">\n",
       "      <th></th>\n",
       "      <th>Einrichtung</th>\n",
       "      <th>Anzahl</th>\n",
       "      <th>Anteil</th>\n",
       "    </tr>\n",
       "  </thead>\n",
       "  <tbody>\n",
       "    <tr>\n",
       "      <th>0</th>\n",
       "      <td>Hochschule</td>\n",
       "      <td>41</td>\n",
       "      <td>69.491525</td>\n",
       "    </tr>\n",
       "    <tr>\n",
       "      <th>1</th>\n",
       "      <td>Außeruniversitäre Forschungseinrichtung</td>\n",
       "      <td>18</td>\n",
       "      <td>30.508475</td>\n",
       "    </tr>\n",
       "    <tr>\n",
       "      <th>2</th>\n",
       "      <td>Öffentliche Einrichtung bzw. Verwaltung</td>\n",
       "      <td>1</td>\n",
       "      <td>1.694915</td>\n",
       "    </tr>\n",
       "    <tr>\n",
       "      <th>3</th>\n",
       "      <td>Intermediäre Einrichtung, Stiftung, Förderorganisation, Interesseverband</td>\n",
       "      <td>2</td>\n",
       "      <td>3.389831</td>\n",
       "    </tr>\n",
       "    <tr>\n",
       "      <th>4</th>\n",
       "      <td>Summe</td>\n",
       "      <td>62</td>\n",
       "      <td>105.084746</td>\n",
       "    </tr>\n",
       "  </tbody>\n",
       "</table>"
      ],
      "text/plain": [
       "<IPython.core.display.HTML object>"
      ]
     },
     "metadata": {},
     "output_type": "display_data"
    }
   ],
   "source": [
    "d1 = df[['v1_1', 'v1_2', 'v1_3', 'v1_4']].apply(pd.value_counts).loc['[1] Ja']\n",
    "\n",
    "df1 = pd.DataFrame([['Hochschule', d1['v1_1'], d1['v1_1'] / n * 100], \n",
    "                    ['Außeruniversitäre Forschungseinrichtung', d1['v1_2'], d1['v1_2'] / n * 100],\n",
    "                    ['Öffentliche Einrichtung bzw. Verwaltung', d1['v1_3'], d1['v1_3'] / n * 100],\n",
    "                    ['Intermediäre Einrichtung, Stiftung, Förderorganisation, Interesseverband', d1['v1_4'], d1['v1_4'] / n * 100]], \n",
    "                   columns = ['Einrichtung', 'Anzahl', 'Anteil'])\n",
    "\n",
    "df1 = df1.append({'Einrichtung':'Summe', 'Anzahl': df1['Anzahl'].sum(), 'Anteil': df1['Anteil'].sum()}, ignore_index=True)\n",
    "\n",
    "display(HTML(df1.to_html()))"
   ]
  },
  {
   "cell_type": "markdown",
   "metadata": {},
   "source": [
    "## Welche Art von Stelle/Affiliation haben Sie in Ihrer Enrichtung inne? Bei mehrfacher Affiliation bitte die wichtigste nennen."
   ]
  },
  {
   "cell_type": "code",
   "execution_count": 63,
   "metadata": {},
   "outputs": [
    {
     "data": {
      "text/html": [
       "<table border=\"1\" class=\"dataframe\">\n",
       "  <thead>\n",
       "    <tr style=\"text-align: right;\">\n",
       "      <th></th>\n",
       "      <th>Stelle</th>\n",
       "      <th>Anzahl</th>\n",
       "      <th>Anteil</th>\n",
       "    </tr>\n",
       "  </thead>\n",
       "  <tbody>\n",
       "    <tr>\n",
       "      <th>0</th>\n",
       "      <td>Professur</td>\n",
       "      <td>23</td>\n",
       "      <td>38.983051</td>\n",
       "    </tr>\n",
       "    <tr>\n",
       "      <th>1</th>\n",
       "      <td>Wissenschaftliche Mitarbeiter*innenstelle / Doktorand*in</td>\n",
       "      <td>8</td>\n",
       "      <td>13.559322</td>\n",
       "    </tr>\n",
       "    <tr>\n",
       "      <th>2</th>\n",
       "      <td>Wissenschaftliche Mitarbeiter*innenstelle / Postdoc</td>\n",
       "      <td>10</td>\n",
       "      <td>16.949153</td>\n",
       "    </tr>\n",
       "    <tr>\n",
       "      <th>3</th>\n",
       "      <td>Referent*in, Koordinator*in</td>\n",
       "      <td>4</td>\n",
       "      <td>6.779661</td>\n",
       "    </tr>\n",
       "    <tr>\n",
       "      <th>4</th>\n",
       "      <td>Stipendiat*in</td>\n",
       "      <td>1</td>\n",
       "      <td>1.694915</td>\n",
       "    </tr>\n",
       "    <tr>\n",
       "      <th>5</th>\n",
       "      <td>Gaststatus, Research Fellow, Privatdozentur ohne Anstellung etc.</td>\n",
       "      <td>0</td>\n",
       "      <td>0.000000</td>\n",
       "    </tr>\n",
       "    <tr>\n",
       "      <th>6</th>\n",
       "      <td>Sonstiges: bitte nennen</td>\n",
       "      <td>11</td>\n",
       "      <td>18.644068</td>\n",
       "    </tr>\n",
       "    <tr>\n",
       "      <th>7</th>\n",
       "      <td>Summe</td>\n",
       "      <td>57</td>\n",
       "      <td>96.610169</td>\n",
       "    </tr>\n",
       "  </tbody>\n",
       "</table>"
      ],
      "text/plain": [
       "<IPython.core.display.HTML object>"
      ]
     },
     "metadata": {},
     "output_type": "display_data"
    }
   ],
   "source": [
    "d2 = df[['v2_1']].apply(pd.value_counts)\n",
    "\n",
    "df2 = pd.DataFrame([['Professur', d2.loc['[1] Professur', 'v2_1'], d2.loc['[1] Professur', 'v2_1'] / n * 100],\n",
    "                    ['Wissenschaftliche Mitarbeiter*innenstelle / Doktorand*in', d2.loc['[2] Wissenschaftliche Mitarbeiter*innenstelle / Doktorand*in', 'v2_1'], d2.loc['[2] Wissenschaftliche Mitarbeiter*innenstelle / Doktorand*in', 'v2_1'] / n * 100],\n",
    "                    ['Wissenschaftliche Mitarbeiter*innenstelle / Postdoc', d2.loc['[3] Wissenschaftliche Mitarbeiter*innenstelle / Postdoc', 'v2_1'], d2.loc['[3] Wissenschaftliche Mitarbeiter*innenstelle / Postdoc', 'v2_1'] / n * 100],\n",
    "                    ['Referent*in, Koordinator*in', d2.loc['[4] Referent*in, Koordinator*in', 'v2_1'], d2.loc['[4] Referent*in, Koordinator*in', 'v2_1'] / n * 100],\n",
    "                    ['Stipendiat*in', d2.loc['[5] Stipendiat*in', 'v2_1'], d2.loc['[5] Stipendiat*in', 'v2_1'] / n * 100],\n",
    "                    ['Gaststatus, Research Fellow, Privatdozentur ohne Anstellung etc.', d2.loc['[6] Gaststatus, Research Fellow, Privatdozentur ohne Anstellung etc.', 'v2_1'], d2.loc['[6] Gaststatus, Research Fellow, Privatdozentur ohne Anstellung etc.', 'v2_1'] / n * 100],\n",
    "                    ['Sonstiges: bitte nennen', d2.loc['[7] Sonstiges: bitte nennen', 'v2_1'], d2.loc['[7] Sonstiges: bitte nennen', 'v2_1'] / n * 100]], \n",
    "                   columns = ['Stelle', 'Anzahl', 'Anteil'])\n",
    "\n",
    "df2 = df2.append({'Stelle':'Summe', 'Anzahl': df2['Anzahl'].sum(), 'Anteil': df2['Anteil'].sum()}, ignore_index=True)\n",
    "\n",
    "display(HTML(df2.to_html()))"
   ]
  },
  {
   "cell_type": "markdown",
   "metadata": {},
   "source": [
    "Sonstiges, bitte nennen:"
   ]
  },
  {
   "cell_type": "code",
   "execution_count": 74,
   "metadata": {},
   "outputs": [
    {
     "data": {
      "text/html": [
       "<table border=\"1\" class=\"dataframe\">\n",
       "  <thead>\n",
       "    <tr style=\"text-align: right;\">\n",
       "      <th></th>\n",
       "      <th>v2_2</th>\n",
       "    </tr>\n",
       "  </thead>\n",
       "  <tbody>\n",
       "    <tr>\n",
       "      <th>4</th>\n",
       "      <td>wissenschaftliche Angestellte mit Professorentitel</td>\n",
       "    </tr>\n",
       "    <tr>\n",
       "      <th>7</th>\n",
       "      <td>wiss. Leiter</td>\n",
       "    </tr>\n",
       "    <tr>\n",
       "      <th>9</th>\n",
       "      <td>Direktor</td>\n",
       "    </tr>\n",
       "    <tr>\n",
       "      <th>17</th>\n",
       "      <td>Senior scientist, Stell. vertretende Departmentleitung</td>\n",
       "    </tr>\n",
       "    <tr>\n",
       "      <th>18</th>\n",
       "      <td>Leiter des Forschungszentrums und Prof. an Uni</td>\n",
       "    </tr>\n",
       "    <tr>\n",
       "      <th>32</th>\n",
       "      <td>Vertr. Prof.</td>\n",
       "    </tr>\n",
       "    <tr>\n",
       "      <th>44</th>\n",
       "      <td>Stv. Direktor</td>\n",
       "    </tr>\n",
       "    <tr>\n",
       "      <th>49</th>\n",
       "      <td>Geschäftsführer</td>\n",
       "    </tr>\n",
       "    <tr>\n",
       "      <th>50</th>\n",
       "      <td>in Dänemark: Professur; an einer dt Uni WiMi/Quali-Stelle befristet; an einem Institut der Leibniz Gemeinschaft bin ich Gast. Im folgenden beziehe ich meine Antworten auf die dt WiMi Anbindung</td>\n",
       "    </tr>\n",
       "    <tr>\n",
       "      <th>56</th>\n",
       "      <td>nicht angestellt von einer Uni</td>\n",
       "    </tr>\n",
       "    <tr>\n",
       "      <th>61</th>\n",
       "      <td>Projektleitung</td>\n",
       "    </tr>\n",
       "  </tbody>\n",
       "</table>"
      ],
      "text/plain": [
       "<IPython.core.display.HTML object>"
      ]
     },
     "metadata": {},
     "output_type": "display_data"
    }
   ],
   "source": [
    "display(HTML((df[df['v2_2'] != '-9990']['v2_2'].to_frame().to_html())))"
   ]
  }
 ],
 "metadata": {
  "kernelspec": {
   "display_name": "Python 3",
   "language": "python",
   "name": "python3"
  },
  "language_info": {
   "codemirror_mode": {
    "name": "ipython",
    "version": 3
   },
   "file_extension": ".py",
   "mimetype": "text/x-python",
   "name": "python",
   "nbconvert_exporter": "python",
   "pygments_lexer": "ipython3",
   "version": "3.7.4"
  }
 },
 "nbformat": 4,
 "nbformat_minor": 4
}
